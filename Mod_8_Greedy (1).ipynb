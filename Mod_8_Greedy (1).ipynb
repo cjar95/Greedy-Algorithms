{
 "cells": [
  {
   "cell_type": "markdown",
   "id": "imposed-playlist",
   "metadata": {},
   "source": [
    "# Lab 8: Greedy Algorithms"
   ]
  },
  {
   "cell_type": "markdown",
   "id": "d97cce87",
   "metadata": {},
   "source": [
    "Lab associated with Module 8: Greedy Algorithms"
   ]
  },
  {
   "cell_type": "markdown",
   "id": "5c7f2e9d",
   "metadata": {},
   "source": [
    "***"
   ]
  },
  {
   "cell_type": "code",
   "execution_count": 1,
   "id": "5b495ad0",
   "metadata": {},
   "outputs": [
    {
     "name": "stderr",
     "output_type": "stream",
     "text": [
      "C:\\Users\\jarac\\AppData\\Local\\Temp\\ipykernel_3408\\1945220536.py:2: DeprecationWarning: Importing display from IPython.core.display is deprecated since IPython 7.14, please import from IPython display\n",
      "  from IPython.core.display import display, HTML\n"
     ]
    },
    {
     "data": {
      "text/html": [
       "<style>.container { width:95% !important; }</style>"
      ],
      "text/plain": [
       "<IPython.core.display.HTML object>"
      ]
     },
     "metadata": {},
     "output_type": "display_data"
    }
   ],
   "source": [
    "# The following lines are used to increase the width of cells to utilize more space on the screen \n",
    "from IPython.core.display import display, HTML\n",
    "display(HTML(\"<style>.container { width:95% !important; }</style>\"))"
   ]
  },
  {
   "cell_type": "markdown",
   "id": "3a2b855c",
   "metadata": {},
   "source": [
    "***"
   ]
  },
  {
   "cell_type": "markdown",
   "id": "9d0921a0",
   "metadata": {},
   "source": [
    "### Section 0: Imports"
   ]
  },
  {
   "cell_type": "code",
   "execution_count": 2,
   "id": "477622d5",
   "metadata": {},
   "outputs": [],
   "source": [
    "import numpy as np"
   ]
  },
  {
   "cell_type": "code",
   "execution_count": 3,
   "id": "50fb5ed5",
   "metadata": {},
   "outputs": [],
   "source": [
    "import math"
   ]
  },
  {
   "cell_type": "code",
   "execution_count": 4,
   "id": "9910ee06",
   "metadata": {},
   "outputs": [],
   "source": [
    "from IPython.display import Image\n",
    "from graphviz import Digraph"
   ]
  },
  {
   "cell_type": "markdown",
   "id": "e748249f",
   "metadata": {},
   "source": [
    "Install heapdict through Anaconda Navigator or Pip or Conda"
   ]
  },
  {
   "cell_type": "code",
   "execution_count": 5,
   "id": "2eb12be4",
   "metadata": {},
   "outputs": [],
   "source": [
    "import heapdict as heapdict"
   ]
  },
  {
   "cell_type": "markdown",
   "id": "7f9321f8",
   "metadata": {},
   "source": [
    "***"
   ]
  },
  {
   "cell_type": "markdown",
   "id": "1309ad59",
   "metadata": {},
   "source": [
    "### Section 1: Greedy Algorithm for Activity Selection"
   ]
  },
  {
   "cell_type": "markdown",
   "id": "4b8e52ca",
   "metadata": {},
   "source": [
    "A simple greedy algorithm based on sorted activities can be written as:"
   ]
  },
  {
   "cell_type": "code",
   "execution_count": 6,
   "id": "2a6897da",
   "metadata": {},
   "outputs": [],
   "source": [
    "# activities are sorted by end time\n",
    "def greedyActivitySelection(activities):\n",
    "    \n",
    "    #The final array of answers\n",
    "    schedule = []\n",
    "    \n",
    "    currentTime = activities[0][0] - 1 # start before any of the activities start.\n",
    "    \n",
    "    #Iterates through all the activity pairs\n",
    "    for i in range(len(activities)):\n",
    "        start, finish = activities[i]\n",
    "        if start > currentTime:\n",
    "            schedule.append(i)\n",
    "            currentTime = finish\n",
    "    \n",
    "    return schedule"
   ]
  },
  {
   "cell_type": "markdown",
   "id": "1cb9c687",
   "metadata": {},
   "source": [
    "Let us test above function as:"
   ]
  },
  {
   "cell_type": "code",
   "execution_count": 7,
   "id": "55b3a75e",
   "metadata": {},
   "outputs": [
    {
     "name": "stdout",
     "output_type": "stream",
     "text": [
      "Solution:\n",
      "[1, 4]\n",
      "[5, 7]\n",
      "[8, 10]\n",
      "[13, 15]\n"
     ]
    }
   ],
   "source": [
    "activities = [  [1,4],[2,5],[3,6],[5,7],[3,8],[6,9],[8,10],[9,11],[5,12],[6,13],[8,14],[13,15] ]\n",
    "\n",
    "activityList = greedyActivitySelection(activities)\n",
    "\n",
    "print(\"Solution:\")\n",
    "for act in activityList:\n",
    "    print(activities[act])"
   ]
  },
  {
   "cell_type": "code",
   "execution_count": 8,
   "id": "03004d82",
   "metadata": {},
   "outputs": [
    {
     "name": "stdout",
     "output_type": "stream",
     "text": [
      "12\n"
     ]
    }
   ],
   "source": [
    "#The activities legth \n",
    "print(len(activities))"
   ]
  },
  {
   "cell_type": "code",
   "execution_count": 9,
   "id": "d66ccf8d",
   "metadata": {},
   "outputs": [],
   "source": [
    "#Another sorted activity list with no overlap\n",
    "activities3 = [(1,2), (3,4), (5,6), (7,8), (9,10), (11,12) ]"
   ]
  },
  {
   "cell_type": "code",
   "execution_count": 10,
   "id": "50f6ce4c",
   "metadata": {},
   "outputs": [
    {
     "name": "stdout",
     "output_type": "stream",
     "text": [
      "Solution:\n",
      "(1, 2)\n",
      "(3, 4)\n",
      "(5, 6)\n",
      "(7, 8)\n",
      "(9, 10)\n",
      "(11, 12)\n"
     ]
    }
   ],
   "source": [
    "activityList3 = greedyActivitySelection(activities3)\n",
    "\n",
    "print(\"Solution:\")\n",
    "for act in activityList3:\n",
    "    print(activities3[act])"
   ]
  },
  {
   "cell_type": "markdown",
   "id": "8d527834",
   "metadata": {},
   "source": [
    "Modify above code to implement sorting of the activities. "
   ]
  },
  {
   "cell_type": "markdown",
   "id": "0274c62c",
   "metadata": {},
   "source": [
    "***"
   ]
  },
  {
   "cell_type": "markdown",
   "id": "f9b31a04",
   "metadata": {},
   "source": [
    "### <font color='red'> Activity 1: Analyse the greedy algorithm for Activity Selection problem in this week's lab. Demonstrate your understanding of the code.. </font>"
   ]
  },
  {
   "cell_type": "code",
   "execution_count": 11,
   "id": "8d176b03",
   "metadata": {},
   "outputs": [
    {
     "data": {
      "text/plain": [
       "'\\nActivity selection is based off of the idea that we have to do n number of activities. Each activity has to be started and finished at a specified time. \\nIn the example above the first int is the start time and the second is the finish time.\\nThe aim is to find the maximum number of activities we can do that do not overlap.\\nWe need a proxy to evaluate choices for greedy algorithms. \\nIn the instance above the proxy could be finish time as discussed in the module. Depending on the current time we evaluate the status of start times and adjust the finish time accordingly.\\nThe algorithm above works for sorted activities whose finish time increments as you move through the array. The schedule array is used to house the final answer pairs.\\n\\n'"
      ]
     },
     "execution_count": 11,
     "metadata": {},
     "output_type": "execute_result"
    }
   ],
   "source": [
    "#### TODO ####\n",
    "### Good Luck ###\n",
    "'''\n",
    "Activity selection is based off of the idea that we have to do n number of activities. Each activity has to be started and finished at a specified time. \n",
    "In the example above the first int is the start time and the second is the finish time.\n",
    "The aim is to find the maximum number of activities we can do that do not overlap.\n",
    "We need a proxy to evaluate choices for greedy algorithms. \n",
    "In the instance above the proxy could be finish time as discussed in the module. Depending on the current time we evaluate the status of start times and adjust the finish time accordingly.\n",
    "The algorithm above works for sorted activities whose finish time increments as you move through the array. The schedule array is used to house the final answer pairs.\n",
    "\n",
    "'''"
   ]
  },
  {
   "cell_type": "markdown",
   "id": "configured-swedish",
   "metadata": {},
   "source": [
    "### <font color='red'> Activity 2: Devise a dynamic programming solution to Activity Selection problem, and see if you get the same results as that of greedy strategy. </font>"
   ]
  },
  {
   "cell_type": "code",
   "execution_count": 12,
   "id": "f672d7b8",
   "metadata": {},
   "outputs": [],
   "source": [
    "def dynamicActivitySelection(activities):\n",
    "    \n",
    "  #sorts the activities according to increasing order of their start time\n",
    "    activities.sort(key=lambda x: x[0])\n",
    " \n",
    "    # L[i] stores the maximum non-conflicting activities that end at ith activity\n",
    "    L = [[] for _ in range(len(activities))]\n",
    " \n",
    "    for i in range(len(activities)):\n",
    "        # considers each j less than i\n",
    "        for j in range(i):\n",
    "            # L[i] = max(L[j]), where activities[j].finish is less than activities[i].start\n",
    "            start, finish = (activities[i][0], activities[j][1])\n",
    "            if finish < start and len(L[i]) < len(L[j]):\n",
    "                L[i] = L[j].copy()\n",
    " \n",
    "        L[i].append(activities[i])\n",
    " \n",
    "    # find the list having a maximum size\n",
    "    max = []\n",
    "    for pair in L:\n",
    "        if len(max) < len(pair):\n",
    "            max = pair\n",
    " \n",
    "    # print maximum non-conflicting activities\n",
    "    print(max)\n",
    "   "
   ]
  },
  {
   "cell_type": "markdown",
   "id": "baf2b59a",
   "metadata": {},
   "source": [
    "# Activity Selection Test Cases"
   ]
  },
  {
   "cell_type": "code",
   "execution_count": 13,
   "id": "f87e151e",
   "metadata": {},
   "outputs": [
    {
     "name": "stdout",
     "output_type": "stream",
     "text": [
      "[[1, 4], [5, 7], [8, 10], [13, 15]]\n"
     ]
    }
   ],
   "source": [
    "#Provided test case from Greedy implemented \n",
    "dynamicActivitySelection(activities)"
   ]
  },
  {
   "cell_type": "code",
   "execution_count": 14,
   "id": "fb853848",
   "metadata": {},
   "outputs": [],
   "source": [
    "#An activity list that is not already sorted\n",
    "activities2 = [(1, 4), (3, 5), (0, 6), (5, 7), (3, 8), (5, 9),(6, 10), (8, 11), (8, 12), (2, 13), (12, 14)]"
   ]
  },
  {
   "cell_type": "code",
   "execution_count": 15,
   "id": "a4efe7e8",
   "metadata": {},
   "outputs": [
    {
     "name": "stdout",
     "output_type": "stream",
     "text": [
      "[(1, 4), (5, 7), (8, 11), (12, 14)]\n"
     ]
    }
   ],
   "source": [
    " dynamicActivitySelection(activities2)"
   ]
  },
  {
   "cell_type": "code",
   "execution_count": 16,
   "id": "0f303162",
   "metadata": {},
   "outputs": [],
   "source": [
    "#Another sorter activity list with no overlap\n",
    "activities3 = [(1,2), (3,4), (5,6), (7,8), (9,10), (11,12) ]"
   ]
  },
  {
   "cell_type": "code",
   "execution_count": 17,
   "id": "90af7229",
   "metadata": {},
   "outputs": [
    {
     "name": "stdout",
     "output_type": "stream",
     "text": [
      "[(1, 2), (3, 4), (5, 6), (7, 8), (9, 10), (11, 12)]\n"
     ]
    }
   ],
   "source": [
    " dynamicActivitySelection(activities3)"
   ]
  },
  {
   "cell_type": "code",
   "execution_count": 18,
   "id": "4e4d8fc1",
   "metadata": {},
   "outputs": [],
   "source": [
    "#Unsorted activities list\n",
    "activities4 = [(5,9), (1,2), (3,4), (0,6), (5,7), (8,9)]"
   ]
  },
  {
   "cell_type": "code",
   "execution_count": 19,
   "id": "7a161f78",
   "metadata": {},
   "outputs": [
    {
     "name": "stdout",
     "output_type": "stream",
     "text": [
      "[(1, 2), (3, 4), (5, 7), (8, 9)]\n"
     ]
    }
   ],
   "source": [
    " dynamicActivitySelection(activities4)"
   ]
  },
  {
   "cell_type": "code",
   "execution_count": 20,
   "id": "c68b1659",
   "metadata": {},
   "outputs": [],
   "source": [
    "##Unsorted activities list\n",
    "activities5 = [(5,2), (1,8), (31,14), (0,1), (9,7), (11,9)]"
   ]
  },
  {
   "cell_type": "code",
   "execution_count": 21,
   "id": "901eeb5a",
   "metadata": {},
   "outputs": [
    {
     "name": "stdout",
     "output_type": "stream",
     "text": [
      "[(0, 1), (5, 2), (9, 7), (11, 9), (31, 14)]\n"
     ]
    }
   ],
   "source": [
    " dynamicActivitySelection(activities5)"
   ]
  },
  {
   "cell_type": "markdown",
   "id": "9c64f77d",
   "metadata": {},
   "source": [
    "***"
   ]
  },
  {
   "cell_type": "markdown",
   "id": "0ddf024b",
   "metadata": {},
   "source": [
    "### Section 3: Huffman Coding"
   ]
  },
  {
   "cell_type": "code",
   "execution_count": 22,
   "id": "82f0ad8e",
   "metadata": {},
   "outputs": [],
   "source": [
    "#Node class with attributes frequency, symbol, left, and right\n",
    "class node:\n",
    "    \n",
    "    def __init__(self, freq, symbol, left=None, right=None):\n",
    "        \n",
    "        self.freq = freq\n",
    "        self.symbol = symbol\n",
    " \n",
    "        self.left = left\n",
    "        self.right = right\n",
    " \n",
    "        self.val = ''"
   ]
  },
  {
   "cell_type": "markdown",
   "id": "b16f6bf9",
   "metadata": {},
   "source": [
    "# Test Case 1"
   ]
  },
  {
   "cell_type": "code",
   "execution_count": 23,
   "id": "5a7cd0dd",
   "metadata": {},
   "outputs": [],
   "source": [
    "#An array of letter in question\n",
    "letters = ['A', 'B', 'C', 'D', 'E', 'F']\n",
    " \n",
    "#The occurence frequency of each letter\n",
    "frequency = [45, 13, 12, 16, 9, 5]\n",
    "\n",
    "# Let us make use of list to store nodes \n",
    "nodes = []\n",
    " \n",
    "# Put all the nodes in the list first\n",
    "for x in range(len(letters)):\n",
    "    \n",
    "    nodes.append(node(frequency[x], letters[x]))"
   ]
  },
  {
   "cell_type": "markdown",
   "id": "a06e3471",
   "metadata": {},
   "source": [
    "Time to build the tree"
   ]
  },
  {
   "cell_type": "code",
   "execution_count": 24,
   "id": "b4ac7dc0",
   "metadata": {},
   "outputs": [],
   "source": [
    "#Only runs if there are actually nodes to use\n",
    "while len(nodes) > 1:\n",
    "    \n",
    "    # We need to sort the nodes based on the value of the frequency-field\n",
    "    nodes = sorted(nodes, key=lambda x: x.freq)\n",
    " \n",
    "    # The following two nodes are the smallest, let us call them S1 and S2\n",
    "    S1 = nodes[0]\n",
    "    S2 = nodes[1]\n",
    " \n",
    "    S1.val = 0\n",
    "    S2.val = 1\n",
    "\n",
    "    # make the super node\n",
    "    \n",
    "    S12 = node(S1.freq + S2.freq, S1.symbol + S2.symbol, S1, S2)\n",
    " \n",
    "    # remove the two nodes from our consideration next\n",
    "    \n",
    "    nodes.remove(S1)\n",
    "    nodes.remove(S2)\n",
    "    \n",
    "    nodes.append(S12)"
   ]
  },
  {
   "cell_type": "markdown",
   "id": "b3383e7f",
   "metadata": {},
   "source": [
    "Okay, now we have built the tree, let us display the codes. Note, we will have to recursively traverse the tree"
   ]
  },
  {
   "cell_type": "code",
   "execution_count": 25,
   "id": "c313636c",
   "metadata": {},
   "outputs": [],
   "source": [
    "#Method prints the letters and their assigned codes\n",
    "def printCode(node, val=''):\n",
    "    \n",
    "    code = val + str(node.val)\n",
    "\n",
    "    if node.left:\n",
    "        printCode(node.left, code)\n",
    "        \n",
    "    if node.right:\n",
    "        printCode(node.right, code)    \n",
    "        \n",
    "    if not (node.left and node.right):\n",
    "        print('Letter = {}, Code = {}'.format(node.symbol, code))"
   ]
  },
  {
   "cell_type": "code",
   "execution_count": 26,
   "id": "e72efdba",
   "metadata": {},
   "outputs": [
    {
     "name": "stdout",
     "output_type": "stream",
     "text": [
      "Letter = A, Code = 0\n",
      "Letter = C, Code = 100\n",
      "Letter = B, Code = 101\n",
      "Letter = F, Code = 1100\n",
      "Letter = E, Code = 1101\n",
      "Letter = D, Code = 111\n"
     ]
    }
   ],
   "source": [
    "printCode(nodes[0])"
   ]
  },
  {
   "cell_type": "markdown",
   "id": "5928c7db",
   "metadata": {},
   "source": [
    "# Test Case 2"
   ]
  },
  {
   "cell_type": "code",
   "execution_count": 27,
   "id": "68c0f102",
   "metadata": {},
   "outputs": [],
   "source": [
    "#An array of letter in question\n",
    "letters2 = ['G', 'H', 'I', 'J', 'K', 'L']\n",
    " \n",
    "#The occurence frequency of each letter\n",
    "frequency2 = [1, 2, 3, 4, 5, 6]\n",
    "\n",
    "# Let us make use of list to store nodes \n",
    "nodes2 = []\n",
    " \n",
    "# Put all the nodes in the list first\n",
    "for x in range(len(letters2)):\n",
    "    \n",
    "    nodes2.append(node(frequency2[x], letters2[x]))"
   ]
  },
  {
   "cell_type": "code",
   "execution_count": 28,
   "id": "86d9e8be",
   "metadata": {},
   "outputs": [],
   "source": [
    "#Only runs if there are actually nodes to use\n",
    "while len(nodes2) > 1:\n",
    "    \n",
    "    # We need to sort the nodes based on the value of the frequency-field\n",
    "    nodes2 = sorted(nodes2, key=lambda x: x.freq)\n",
    " \n",
    "    # The following two nodes are the smallest, let us call them S1 and S2\n",
    "    S1 = nodes2[0]\n",
    "    S2 = nodes2[1]\n",
    " \n",
    "    S1.val = 0\n",
    "    S2.val = 1\n",
    "\n",
    "    # make the super node\n",
    "    \n",
    "    S12 = node(S1.freq + S2.freq, S1.symbol + S2.symbol, S1, S2)\n",
    " \n",
    "    # remove the two nodes from our consideration next\n",
    "    \n",
    "    nodes2.remove(S1)\n",
    "    nodes2.remove(S2)\n",
    "    \n",
    "    nodes2.append(S12)"
   ]
  },
  {
   "cell_type": "code",
   "execution_count": 29,
   "id": "f1499bf3",
   "metadata": {},
   "outputs": [
    {
     "name": "stdout",
     "output_type": "stream",
     "text": [
      "Letter = J, Code = 00\n",
      "Letter = K, Code = 01\n",
      "Letter = L, Code = 10\n",
      "Letter = I, Code = 110\n",
      "Letter = G, Code = 1110\n",
      "Letter = H, Code = 1111\n"
     ]
    }
   ],
   "source": [
    "printCode(nodes2[0])"
   ]
  },
  {
   "cell_type": "markdown",
   "id": "leading-intensity",
   "metadata": {},
   "source": [
    "### <font color='red'> Activity 3: Code Reflections. </font>"
   ]
  },
  {
   "cell_type": "code",
   "execution_count": null,
   "id": "68e9391d",
   "metadata": {},
   "outputs": [],
   "source": [
    "''''\n",
    "Huffman code is a way to encode information using variable-length strings to represent symbols depending on how frequently they appear \n",
    "The idea is that symbols that are used more frequently should be shorter while symbols that appear more rarely can be longer.\n",
    "The code above uses as node dat structure with attributes frequency, symbol, left, right, and value.\n",
    "There are 2 source arrays 1 for the letters in question and 1 for their frequency of occurence.\n",
    "The 2 source arrays are used to populate the nodes array.\n",
    "The nodes are sorted based on their frequency value.\n",
    "The two smallest nodes are assigned to variable S1 and S2.\n",
    "S1 is assigned a value of 0\n",
    "S2 is assigned a value of 1\n",
    "These 2 values will form the basis for assigning codes to all the other nodes.\n",
    "The idea being each letter will end up with a unique code with the higher frequency letters having the shortest codes.\n",
    "The print method recursively traverses the tree printing the letters and their assigned code values.\n",
    "\n",
    "*** I have noticed that in both test cases the printout is not exactly what I would expect.\n",
    "In test case 1 the order from most frequent to least is A(45), D(16), B (13), C (12), E (9), F(5)\n",
    "But the provided print out is A,C,B,F,E,D with the provided codes incrementing in that order.\n",
    "\n",
    "To confirm my suspicions in test case 2 I provided a frequency list that was sorted and incremented by one. Meaning the order from most frequent to least is \n",
    "L(6), K(5), J(4), I(3), H(2), G(1)\n",
    "The printout is J,K,L,I,G,H with the codes incrementing in that order.\n",
    "\n",
    "With that said every letter is indeed represented by a unique code and more frequent letters do have shorter strings satisfying Huffman coding requirements.\n",
    "\n",
    "''''"
   ]
  },
  {
   "cell_type": "markdown",
   "id": "6570890e",
   "metadata": {},
   "source": [
    "***"
   ]
  },
  {
   "cell_type": "markdown",
   "id": "6e92fc09",
   "metadata": {},
   "source": [
    "### <font color='red'> Section 4: Prim's Algorithm. </font>"
   ]
  },
  {
   "cell_type": "markdown",
   "id": "ce467019",
   "metadata": {},
   "source": [
    "Graph's Preliminaries"
   ]
  },
  {
   "cell_type": "code",
   "execution_count": 86,
   "id": "4cdc7ece",
   "metadata": {},
   "outputs": [],
   "source": [
    "#Imports the graph python file accompanied with this moduleS\n",
    "from graph import *"
   ]
  },
  {
   "cell_type": "code",
   "execution_count": 31,
   "id": "a75ba3ec",
   "metadata": {},
   "outputs": [],
   "source": [
    "#Creates a graph called G and adds vertexes to it\n",
    "G = Graph()\n",
    "\n",
    "for i in ['A', 'B', 'C', 'D', 'E', 'F', 'G', 'H', 'I']:\n",
    "    G.addVertex( Node(i) )"
   ]
  },
  {
   "cell_type": "code",
   "execution_count": 75,
   "id": "c990d75e",
   "metadata": {},
   "outputs": [],
   "source": [
    "V = G.vertices\n",
    "\n",
    "#0, 1, 2, 3, 4, 5, 6, 7, 8\n",
    "#A, B, C, D, E, F, G, H, I\n",
    "\n",
    "#Edge between A to B with a weight of 4\n",
    "G.addBiEdge( V[0], V[1], 4)\n",
    "\n",
    "#Edge between A to H with a weight of 8\n",
    "G.addBiEdge( V[0], V[7] , 8)\n",
    "\n",
    "#Edge between B to H with a weight of 11\n",
    "G.addBiEdge( V[1], V[7], 11)\n",
    "\n",
    "#Edge between B to C with a weight of 8\n",
    "G.addBiEdge( V[1], V[2], 8)\n",
    "\n",
    "#Edge between C to D with a weight of 7\n",
    "G.addBiEdge( V[2], V[3], 7)\n",
    "\n",
    "#Edge between D to E with a weight of 9\n",
    "G.addBiEdge( V[3], V[4], 9)\n",
    "\n",
    "#Edge between D to F with a weight of 14\n",
    "G.addBiEdge( V[3], V[5], 14 )\n",
    "\n",
    "#Edge between E to F with a weight of 10\n",
    "G.addBiEdge( V[4], V[5], 10 )\n",
    "\n",
    "#Edge between C to F with a weight of 4\n",
    "G.addBiEdge( V[2], V[5], 4 )\n",
    "\n",
    "#Edge between C to I with a weight of 2\n",
    "G.addBiEdge( V[2], V[8], 2 )\n",
    "\n",
    "#Edge between F to G with a weight of 2\n",
    "G.addBiEdge( V[5], V[6], 2 )\n",
    "\n",
    "#Edge between G to H with a weight of 1\n",
    "G.addBiEdge( V[6], V[7], 1 )\n",
    "\n",
    "#Edge between G to I with a weight of 6\n",
    "G.addBiEdge( V[6], V[8], 6 )\n",
    "\n",
    "#Edge between H to I with a weight of 7\n",
    "G.addBiEdge( V[7], V[8], 7 )\n"
   ]
  },
  {
   "cell_type": "code",
   "execution_count": 76,
   "id": "2ac81f26",
   "metadata": {},
   "outputs": [
    {
     "name": "stdout",
     "output_type": "stream",
     "text": [
      "Graph with:\n",
      "\t Vertices:\n",
      "\tA,B,C,D,E,F,G,H,I,\n",
      "\t Edges:\n",
      "\t(A,(<graph.Node object at 0x0000021D4FD85790>, 4)) (A,(<graph.Node object at 0x0000021D4FD85700>, 8)) (A,(<graph.Node object at 0x0000021D4FD85790>, 4)) (A,(<graph.Node object at 0x0000021D4FD85700>, 8)) (B,(<graph.Node object at 0x0000021D4FD85250>, 4)) (B,(<graph.Node object at 0x0000021D4FD85700>, 11)) (B,(<graph.Node object at 0x0000021D4FD85EB0>, 8)) (B,(<graph.Node object at 0x0000021D4FD85250>, 4)) (B,(<graph.Node object at 0x0000021D4FD85700>, 11)) (B,(<graph.Node object at 0x0000021D4FD85EB0>, 8)) (C,(<graph.Node object at 0x0000021D4FD85790>, 8)) (C,(<graph.Node object at 0x0000021D4FD85DF0>, 7)) (C,(<graph.Node object at 0x0000021D4FD85820>, 4)) (C,(<graph.Node object at 0x0000021D4FD85880>, 2)) (C,(<graph.Node object at 0x0000021D4FD85790>, 8)) (C,(<graph.Node object at 0x0000021D4FD85DF0>, 7)) (C,(<graph.Node object at 0x0000021D4FD85820>, 4)) (C,(<graph.Node object at 0x0000021D4FD85880>, 2)) (D,(<graph.Node object at 0x0000021D4FD85EB0>, 7)) (D,(<graph.Node object at 0x0000021D4FD85730>, 9)) (D,(<graph.Node object at 0x0000021D4FD85820>, 14)) (D,(<graph.Node object at 0x0000021D4FD85EB0>, 7)) (D,(<graph.Node object at 0x0000021D4FD85730>, 9)) (D,(<graph.Node object at 0x0000021D4FD85820>, 14)) (E,(<graph.Node object at 0x0000021D4FD85DF0>, 9)) (E,(<graph.Node object at 0x0000021D4FD85820>, 10)) (E,(<graph.Node object at 0x0000021D4FD85DF0>, 9)) (E,(<graph.Node object at 0x0000021D4FD85820>, 10)) (F,(<graph.Node object at 0x0000021D4FD85DF0>, 14)) (F,(<graph.Node object at 0x0000021D4FD85730>, 10)) (F,(<graph.Node object at 0x0000021D4FD85EB0>, 4)) (F,(<graph.Node object at 0x0000021D4FD851F0>, 2)) (F,(<graph.Node object at 0x0000021D4FD85DF0>, 14)) (F,(<graph.Node object at 0x0000021D4FD85730>, 10)) (F,(<graph.Node object at 0x0000021D4FD85EB0>, 4)) (F,(<graph.Node object at 0x0000021D4FD851F0>, 2)) (G,(<graph.Node object at 0x0000021D4FD85820>, 2)) (G,(<graph.Node object at 0x0000021D4FD85700>, 1)) (G,(<graph.Node object at 0x0000021D4FD85880>, 6)) (G,(<graph.Node object at 0x0000021D4FD85820>, 2)) (G,(<graph.Node object at 0x0000021D4FD85700>, 1)) (G,(<graph.Node object at 0x0000021D4FD85880>, 6)) (H,(<graph.Node object at 0x0000021D4FD85250>, 8)) (H,(<graph.Node object at 0x0000021D4FD85790>, 11)) (H,(<graph.Node object at 0x0000021D4FD851F0>, 1)) (H,(<graph.Node object at 0x0000021D4FD85880>, 7)) (H,(<graph.Node object at 0x0000021D4FD85250>, 8)) (H,(<graph.Node object at 0x0000021D4FD85790>, 11)) (H,(<graph.Node object at 0x0000021D4FD851F0>, 1)) (H,(<graph.Node object at 0x0000021D4FD85880>, 7)) (I,(<graph.Node object at 0x0000021D4FD85EB0>, 2)) (I,(<graph.Node object at 0x0000021D4FD851F0>, 6)) (I,(<graph.Node object at 0x0000021D4FD85700>, 7)) (I,(<graph.Node object at 0x0000021D4FD85EB0>, 2)) (I,(<graph.Node object at 0x0000021D4FD851F0>, 6)) (I,(<graph.Node object at 0x0000021D4FD85700>, 7)) \n",
      "\n"
     ]
    }
   ],
   "source": [
    "print(G)"
   ]
  },
  {
   "cell_type": "code",
   "execution_count": 77,
   "id": "90f685a9",
   "metadata": {},
   "outputs": [
    {
     "name": "stdout",
     "output_type": "stream",
     "text": [
      "None\n"
     ]
    }
   ],
   "source": [
    "print(A)"
   ]
  },
  {
   "cell_type": "markdown",
   "id": "10941ad1",
   "metadata": {},
   "source": [
    "This is what we had in the lectures as the slow implementation of Prim's Algorithm"
   ]
  },
  {
   "cell_type": "code",
   "execution_count": 34,
   "id": "c75594c0",
   "metadata": {},
   "outputs": [],
   "source": [
    "# G is graph\n",
    "# s is the node to start\n",
    "\n",
    "def slowPrim(G, s):\n",
    "    \n",
    "    # first, find the lightest edge leaving s\n",
    "    bestWt = np.inf\n",
    "    bestu = None\n",
    "    \n",
    "    for u,wt in s.getOutNeighborsWithWeights():\n",
    "        \n",
    "        if wt < bestWt:\n",
    "            bestWt = wt\n",
    "            bestu = u\n",
    "    \n",
    "    #Minimum spanning tree starts with the starting node and best u\n",
    "    MST = [ (s, bestu) ]\n",
    "    verticesVisited = [s,bestu]\n",
    "    \n",
    "    while len(verticesVisited) < len(G.vertices): # danger! this will loop forever if the graph isn't connected...\n",
    "        \n",
    "        # find the lightest edge (x,v) so that x has been visited and v hasn't.\n",
    "        bestWt = np.inf\n",
    "        bestv = None\n",
    "        bestx = None\n",
    "        \n",
    "        #Progresses through the whole graph\n",
    "        for x in verticesVisited:\n",
    "            for v,wt in x.getOutNeighborsWithWeights():\n",
    "                \n",
    "                if v in verticesVisited:\n",
    "                    continue\n",
    "                \n",
    "                if wt < bestWt:\n",
    "                    bestWt = wt\n",
    "                    bestv = v\n",
    "                    bestx = x\n",
    "        #Adds values to the MST            \n",
    "        MST.append((bestx,bestv))\n",
    "        verticesVisited.append(bestv)\n",
    "    \n",
    "    return MST"
   ]
  },
  {
   "cell_type": "code",
   "execution_count": 40,
   "id": "f6ff20d2",
   "metadata": {},
   "outputs": [
    {
     "name": "stdout",
     "output_type": "stream",
     "text": [
      "A B\n",
      "A H\n",
      "H G\n",
      "G F\n",
      "F C\n",
      "C I\n",
      "C D\n",
      "D E\n"
     ]
    }
   ],
   "source": [
    "T = slowPrim(G, G.vertices[0])\n",
    "\n",
    "for x,y in T:\n",
    "    print(x,y)"
   ]
  },
  {
   "cell_type": "markdown",
   "id": "3f2b31e2",
   "metadata": {},
   "source": [
    "Okay, it seems to be working fine, but as we discussed, will be quite slow. Let us see if we can work on the faster version of the code as:"
   ]
  },
  {
   "cell_type": "code",
   "execution_count": 41,
   "id": "e32585d1",
   "metadata": {},
   "outputs": [],
   "source": [
    "#Faster prim implementation\n",
    "def prim(G,w):\n",
    "    \n",
    "    for v in G.vertices:\n",
    "        v.estD = np.inf\n",
    "    \n",
    "    w.estD = 0\n",
    "    #Hold the miniumum spanning tree\n",
    "    MST = []\n",
    "    unvisitedVertices = heapdict.heapdict()\n",
    "    \n",
    "    for v in G.vertices:\n",
    "        unvisitedVertices[v] = v.estD\n",
    "    \n",
    "    while len(unvisitedVertices) > 0:\n",
    "        \n",
    "        # find the u with the minimum estD, using the heap\n",
    "        u, dist = unvisitedVertices.popitem() \n",
    "        if u.estD == np.inf:\n",
    "            # then there is nothing more that I can reach; this shouldn't happen if the graph is connected\n",
    "            return \"Graph disconnected :(\"\n",
    "        \n",
    "        # add u to the MST\n",
    "        if u.parent != None:  # don't do it for the first vertex\n",
    "            MST.append((u.parent,u))\n",
    "        \n",
    "        # update u's neighbors\n",
    "        for v,wt in u.getOutNeighborsWithWeights():\n",
    "            if v in unvisitedVertices:\n",
    "                if wt < v.estD:\n",
    "                    v.estD = wt\n",
    "                    unvisitedVertices[v] =  wt #update the key in the heapdict\n",
    "                    v.parent = u # v points to u now\n",
    "                    \n",
    "    return MST"
   ]
  },
  {
   "cell_type": "code",
   "execution_count": 42,
   "id": "e6c07571",
   "metadata": {},
   "outputs": [
    {
     "name": "stdout",
     "output_type": "stream",
     "text": [
      "A B\n",
      "B C\n",
      "C I\n",
      "C F\n",
      "F G\n",
      "G H\n",
      "C D\n",
      "D E\n"
     ]
    }
   ],
   "source": [
    "T = prim(G, G.vertices[0])\n",
    "\n",
    "for x,y in T:\n",
    "    print(x,y)"
   ]
  },
  {
   "cell_type": "markdown",
   "id": "creative-constitutional",
   "metadata": {},
   "source": [
    "### <font color='red'> Activity 4: Code Reflections. </font>"
   ]
  },
  {
   "cell_type": "code",
   "execution_count": null,
   "id": "8fd42b8b",
   "metadata": {},
   "outputs": [],
   "source": [
    "'''\n",
    "Prim's is a minimum spanning tree greedy algorithm. The idea being all vertices must be connected with no cycles and the minimum edge weight possible.\n",
    "The above implementations take a Graph and a starting node then moves through adjacent nodes, to explore all the connected edges along the way.\n",
    "It is imperative to keep track of the visited nodes to make sure no cycles are created (as cycles violate the tree property )\n",
    "The slowPrim implementation has a runtime complexity of O(nm), where n is the number of vertices and m is the number of edges in the graph.\n",
    "The faster Prim implementation has a runtime complexity of O(mlog(n))\n",
    "Faster Prims implements a strategy from Dijkstra's and makes use of a \"key\" for each node\n",
    "A node is either active, completed, or not yet reached. \n",
    "The key is used in making a decision about whether to include that node in the MST. Each vertex will also maintain a pointer which points to the nearest node on the MST\n",
    "These pointers are adjusted as need be when a new node is explored.\n",
    "At every step the node with the smallest key is selected and its neighbours are analysed one by one. Neighbour keys are updated as we progress through the graph\n",
    "\n",
    "**I noticed that both versions of Prim have a different output for the same raw data, this is likely due to the varying implementations.\n",
    "If the algorithm is having to choose between 2 edge weights that are the same then the different implementations will lead to a different selection. \n",
    "\n",
    "\n",
    "'''"
   ]
  },
  {
   "cell_type": "markdown",
   "id": "cc0f5215",
   "metadata": {},
   "source": [
    "***"
   ]
  },
  {
   "cell_type": "markdown",
   "id": "42212e3d",
   "metadata": {},
   "source": [
    "### <font color='red'> Activity 5: In lights of Prim's Algorithm that you developed above, make your best effort to implement Kruskal's Algorithm. </font>"
   ]
  },
  {
   "cell_type": "code",
   "execution_count": 149,
   "id": "2dd110b4",
   "metadata": {},
   "outputs": [],
   "source": [
    "#Tweaked Graph class to faciliate Kruskal implementation\n",
    "#Was having difficulty with the getDirEdges() printout, refer to PDF reflection for more information \n",
    "class Graph2:\n",
    "    def __init__(self, initialNodeNumber):\n",
    "        self.numberOfNodes = initialNodeNumber\n",
    "        self.edges = []\n",
    "    \n",
    "    #Adds the edges to edges array\n",
    "    def add_edge(self, u, v, wt):\n",
    "        self.edges.append([u, v, wt])\n",
    "        \n",
    "    # Finds the root node of a subtree containing node i\n",
    "    def findSubtree(self, parent, i):\n",
    "        if parent[i] == i:\n",
    "            return i\n",
    "        return self.findSubtree(parent, parent[i])\n",
    "\n",
    "    # Connects subtrees containing nodes x and y\n",
    "    def joinSubtrees(self, parent, subtreeSizes, x, y):\n",
    "        xroot = self.findSubtree(parent, x)\n",
    "        yroot = self.findSubtree(parent, y)\n",
    "        if subtreeSizes[xroot] < subtreeSizes[yroot]:\n",
    "            parent[xroot] = yroot\n",
    "        elif subtreeSizes[xroot] > subtreeSizes[yroot]:\n",
    "            parent[yroot] = xroot\n",
    "        else:\n",
    "            parent[yroot] = xroot\n",
    "            subtreeSizes[xroot] += 1\n",
    "\n",
    "#### TODO ####\n",
    "\n",
    "#STEPS\n",
    "#Sort all the edges from low weight to high\n",
    "#Initialise an empty tree MST\n",
    "#Put each vertex in its own tree in the forest\n",
    "#Take the edge with the lowest weight and add it to the spanning tree MST. If adding the edge created a cycle, then reject this edge.\n",
    "#Keep adding edges until we reach all vertices.\n",
    "\n",
    "### Good Luck ###           \n",
    "    def kruskalMST(self):\n",
    "    #Resulting tree\n",
    "        result = []\n",
    "    \n",
    "    #Iterator\n",
    "        i = 0\n",
    "    #Number of edges in MST\n",
    "        e = 0\n",
    "\n",
    "    #Sort edges by their weight\n",
    "        self.edges = sorted(self.edges, key=lambda item: item[2])\n",
    "    \n",
    "    #Auxiliary arrays\n",
    "    #Parent array keeps information about which node belongs to which subtree\n",
    "        parent = []\n",
    "        subtreeSizes = []\n",
    "\n",
    "    #Initialize parent and subtreeSizes arrays\n",
    "        for node in range(self.numberOfNodes):\n",
    "            parent.append(node)\n",
    "            subtreeSizes.append(0)\n",
    "\n",
    "    #Important property of MSTs\n",
    "    #Number of edges in a MST is equal to (numberOfNodes - 1))\n",
    "        while e < (self.numberOfNodes - 1):\n",
    "        #Pick an edge with the minimal weight\n",
    "            u, v, wt = self.edges[i]\n",
    "            i = i + 1\n",
    "\n",
    "            x = self.findSubtree(parent, u)\n",
    "            y = self.findSubtree(parent, v)\n",
    "\n",
    "            if x != y:\n",
    "                e = e + 1\n",
    "                result.append([u, v, wt])\n",
    "                self.joinSubtrees(parent, subtreeSizes, x, y)\n",
    "    \n",
    "    #Print the resulting MST\n",
    "        for u, v, wt in result:\n",
    "            print(\"%d - %d: %d\" % (u, v, wt))\n",
    "            \n"
   ]
  },
  {
   "cell_type": "markdown",
   "id": "0acdab5f",
   "metadata": {},
   "source": [
    "# Kruskal Test Cases"
   ]
  },
  {
   "cell_type": "code",
   "execution_count": 150,
   "id": "cfc98bab",
   "metadata": {},
   "outputs": [],
   "source": [
    "#Creates a graph G2 with 9 vertices\n",
    "#Same as example graph G\n",
    "G2 = Graph2(9)"
   ]
  },
  {
   "cell_type": "code",
   "execution_count": 151,
   "id": "c6551cbb",
   "metadata": {},
   "outputs": [],
   "source": [
    "#0, 1, 2, 3, 4, 5, 6, 7, 8\n",
    "#A, B, C, D, E, F, G, H, I\n",
    "G2.add_edge(0, 1, 4)\n",
    "G2.add_edge(1, 7, 8)\n",
    "G2.add_edge(1, 7, 11)\n",
    "G2.add_edge(1, 2, 8)\n",
    "G2.add_edge(2, 3, 7)\n",
    "G2.add_edge(3, 4, 9)\n",
    "G2.add_edge(3, 5, 14)\n",
    "G2.add_edge(4, 5, 10)\n",
    "G2.add_edge(2, 5, 4)\n",
    "G2.add_edge(2, 8, 2)\n",
    "G2.add_edge(5, 6, 2)\n",
    "G2.add_edge(6, 7, 1)\n",
    "G2.add_edge(6, 8, 6)\n",
    "G2.add_edge(7, 8, 7)"
   ]
  },
  {
   "cell_type": "code",
   "execution_count": 152,
   "id": "11cfe3eb",
   "metadata": {},
   "outputs": [
    {
     "name": "stdout",
     "output_type": "stream",
     "text": [
      "6 - 7: 1\n",
      "2 - 8: 2\n",
      "5 - 6: 2\n",
      "0 - 1: 4\n",
      "2 - 5: 4\n",
      "2 - 3: 7\n",
      "1 - 7: 8\n",
      "3 - 4: 9\n"
     ]
    }
   ],
   "source": [
    "#Includes edges GH, CI, FG, AB, CF, CD, BH, DE in MST\n",
    "G2.kruskalMST()"
   ]
  },
  {
   "cell_type": "code",
   "execution_count": 153,
   "id": "288b4047",
   "metadata": {},
   "outputs": [],
   "source": [
    "#Creates a graph with 9 vertices\n",
    "G3 = Graph2(9)"
   ]
  },
  {
   "cell_type": "code",
   "execution_count": 154,
   "id": "4336ad36",
   "metadata": {},
   "outputs": [],
   "source": [
    "#0, 1, 2, 3, 4, 5, 6, 7, 8\n",
    "#A, B, C, D, E, F, G, H, I\n",
    "\n",
    "#Edge from A to B with a weight of 4\n",
    "G3.add_edge(0, 1, 4)\n",
    "#Edge from A to C with a weight of 7\n",
    "G3.add_edge(0, 2, 7)\n",
    "#Edge from B to C with a weight of 11\n",
    "G3.add_edge(1, 2, 11)\n",
    "#Edge from B to D with a weight of 9\n",
    "G3.add_edge(1, 3, 9)\n",
    "#Edge from B to F with a weight of 20\n",
    "G3.add_edge(1, 5, 20)\n",
    "#Edge from C to F with a weight of 1\n",
    "G3.add_edge(2, 5, 1)\n",
    "#Edge from D to G with a weight of 6\n",
    "G3.add_edge(3, 6, 6)\n",
    "#Edge from D to E with a weight of 2\n",
    "G3.add_edge(3, 4, 2)\n",
    "#Edge from E to G with a weight of 10\n",
    "G3.add_edge(4, 6, 10)\n",
    "#Edge from E to I with a weight of 15\n",
    "G3.add_edge(4, 8, 15)\n",
    "#Edge from E to H with a weight of 5\n",
    "G3.add_edge(4, 7, 5)\n",
    "#Edge from E to F with a weight of 1\n",
    "G3.add_edge(4, 5, 1)\n",
    "#Edge from F to H with a weight of 3\n",
    "G3.add_edge(5, 7, 3)\n",
    "#Edge from G to I with a weight of 5\n",
    "G3.add_edge(6, 8, 5)\n",
    "#Edge from H to I with a weight of 12\n",
    "G3.add_edge(7, 8, 12)"
   ]
  },
  {
   "cell_type": "code",
   "execution_count": 155,
   "id": "3b6d6114",
   "metadata": {},
   "outputs": [
    {
     "name": "stdout",
     "output_type": "stream",
     "text": [
      "2 - 5: 1\n",
      "4 - 5: 1\n",
      "3 - 4: 2\n",
      "5 - 7: 3\n",
      "0 - 1: 4\n",
      "6 - 8: 5\n",
      "3 - 6: 6\n",
      "0 - 2: 7\n"
     ]
    }
   ],
   "source": [
    "#Includes edges CF, EF, DE, FH, AB, GI, DG, AC in MST\n",
    "G3.kruskalMST()"
   ]
  },
  {
   "cell_type": "markdown",
   "id": "79cfe7ab",
   "metadata": {},
   "source": [
    "***"
   ]
  }
 ],
 "metadata": {
  "kernelspec": {
   "display_name": "Python 3 (ipykernel)",
   "language": "python",
   "name": "python3"
  },
  "language_info": {
   "codemirror_mode": {
    "name": "ipython",
    "version": 3
   },
   "file_extension": ".py",
   "mimetype": "text/x-python",
   "name": "python",
   "nbconvert_exporter": "python",
   "pygments_lexer": "ipython3",
   "version": "3.9.12"
  }
 },
 "nbformat": 4,
 "nbformat_minor": 5
}
